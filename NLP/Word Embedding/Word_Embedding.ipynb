{
  "nbformat": 4,
  "nbformat_minor": 0,
  "metadata": {
    "colab": {
      "provenance": []
    },
    "kernelspec": {
      "name": "python3",
      "display_name": "Python 3"
    },
    "language_info": {
      "name": "python"
    }
  },
  "cells": [
    {
      "cell_type": "markdown",
      "source": [
        "# Imports"
      ],
      "metadata": {
        "id": "vrV85QZuQLqx"
      }
    },
    {
      "cell_type": "code",
      "source": [
        "import tensorflow as tf\n",
        "import nltk\n",
        "nltk.download('punkt')\n",
        "\n",
        "import pandas as pd\n",
        "import gensim\n",
        "from gensim.models import Word2Vec, KeyedVectors"
      ],
      "metadata": {
        "id": "8ilPlNpsQOtm"
      },
      "execution_count": null,
      "outputs": []
    },
    {
      "cell_type": "markdown",
      "source": [
        "# Load Dataset"
      ],
      "metadata": {
        "id": "-rDP3arma2cF"
      }
    },
    {
      "cell_type": "code",
      "source": [
        "df = pd.read_csv('.csv')\n",
        "de.head()"
      ],
      "metadata": {
        "id": "026nZhgGQSpP"
      },
      "execution_count": null,
      "outputs": []
    },
    {
      "cell_type": "code",
      "source": [
        "df.shape"
      ],
      "metadata": {
        "id": "5DLbRD7OaXoE"
      },
      "execution_count": null,
      "outputs": []
    },
    {
      "cell_type": "code",
      "source": [
        "news_titles = df['title'].values\n",
        "news_titles"
      ],
      "metadata": {
        "id": "AoAvXTNOZ3wU"
      },
      "execution_count": null,
      "outputs": []
    },
    {
      "cell_type": "markdown",
      "source": [
        "# Data Preprocessing"
      ],
      "metadata": {
        "id": "KrQ9pftva7AV"
      }
    },
    {
      "cell_type": "code",
      "source": [
        "news = [nltk.word_tokanize(title for title in news_titles)]"
      ],
      "metadata": {
        "id": "47qnhoV_X13O"
      },
      "execution_count": null,
      "outputs": []
    },
    {
      "cell_type": "markdown",
      "source": [
        "# Build & Test Model"
      ],
      "metadata": {
        "id": "VMAfwwFEbAIp"
      }
    },
    {
      "cell_type": "code",
      "source": [
        "model = Word2Vec(news, min_count=1, size=32)"
      ],
      "metadata": {
        "id": "J74yjvk6X2ff"
      },
      "execution_count": null,
      "outputs": []
    },
    {
      "cell_type": "code",
      "source": [
        "model.wv.most_similar('man')\n",
        "\n",
        "model.wv['man']"
      ],
      "metadata": {
        "id": "Um_BziQhYOUA"
      },
      "execution_count": null,
      "outputs": []
    },
    {
      "cell_type": "code",
      "source": [
        "vec = model.wv['Germany'] - model.wv['Berlin'] + model.wv['Paris']\n",
        "model.wv.most_similar([vec])"
      ],
      "metadata": {
        "id": "NXZ7u3F1YxUm"
      },
      "execution_count": null,
      "outputs": []
    }
  ]
}