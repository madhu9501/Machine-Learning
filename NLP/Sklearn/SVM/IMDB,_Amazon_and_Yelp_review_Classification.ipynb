{
  "nbformat": 4,
  "nbformat_minor": 0,
  "metadata": {
    "colab": {
      "provenance": []
    },
    "kernelspec": {
      "name": "python3",
      "display_name": "Python 3"
    },
    "language_info": {
      "name": "python"
    }
  },
  "cells": [
    {
      "cell_type": "markdown",
      "source": [
        "# Imports"
      ],
      "metadata": {
        "id": "vrV85QZuQLqx"
      }
    },
    {
      "cell_type": "code",
      "source": [
        "import numpy as np\n",
        "import matplotlib.pyplot as plt\n",
        "import pandas as pd\n",
        "\n",
        "import string\n",
        "\n",
        "import spacy\n",
        "\n",
        "nlp = spacy.load('en_core_web_sm')\n",
        "\n",
        "from spacy.lang.en.stop_words import STOP_WORDS\n",
        "\n",
        "from sklearn.feature_extraction.text import TfidfVectorizer\n",
        "from sklearn.svm import LinearSVC\n",
        "from sklearn.pipeline import Pipeline\n",
        "\n",
        "from sklearn.metrics import classification_report, accuracy_score, confusion_matrix"
      ],
      "metadata": {
        "id": "8ilPlNpsQOtm"
      },
      "execution_count": null,
      "outputs": []
    },
    {
      "cell_type": "markdown",
      "source": [
        "# Load Data"
      ],
      "metadata": {
        "id": "PzVeWrWxQP_G"
      }
    },
    {
      "cell_type": "code",
      "source": [
        "data_yelp = pd.read_csv(\"yelp_labelled.txt\", sep='\\t', header=None)\n",
        "\n",
        "column_names = ['Review', 'Sentiment']\n",
        "data_yelp.columns = column_names\n",
        "\n",
        "data_yelp.head()"
      ],
      "metadata": {
        "id": "026nZhgGQSpP"
      },
      "execution_count": null,
      "outputs": []
    },
    {
      "cell_type": "code",
      "source": [
        "data_amazon = pd.read_csv(\"amazon_cells_labelled.txt\", sep='\\t', header=None)\n",
        "\n",
        "data_amazon.columns = column_names\n",
        "\n",
        "data_amazon.head()"
      ],
      "metadata": {
        "id": "5DLbRD7OaXoE"
      },
      "execution_count": null,
      "outputs": []
    },
    {
      "cell_type": "code",
      "source": [
        "data_imdb = pd.read_csv(\"imdb_labelled.txt\", sep='\\t', header=None)\n",
        "\n",
        "data_imdb.columns = column_names\n",
        "\n",
        "data_imdb.head()"
      ],
      "metadata": {
        "id": "AoAvXTNOZ3wU"
      },
      "execution_count": null,
      "outputs": []
    },
    {
      "cell_type": "code",
      "source": [
        "data = data_yelp.append([data_amazon, data_imdb], ignore_index=True)\n",
        "data.shape"
      ],
      "metadata": {
        "id": "6WibFWnZZ4Mt"
      },
      "execution_count": null,
      "outputs": []
    },
    {
      "cell_type": "code",
      "source": [
        "data.head()"
      ],
      "metadata": {
        "id": "aTWoSCVk12BG"
      },
      "execution_count": null,
      "outputs": []
    },
    {
      "cell_type": "markdown",
      "source": [
        "# Understanding Data"
      ],
      "metadata": {
        "id": "W5OH6VwCQqPe"
      }
    },
    {
      "cell_type": "code",
      "source": [
        "data_yelp.shape, data_imdb.shape, data_amazon.shape"
      ],
      "metadata": {
        "id": "ZDTKi4UJZy7F"
      },
      "execution_count": null,
      "outputs": []
    },
    {
      "cell_type": "code",
      "source": [
        "data['Sentiment'].value_count()"
      ],
      "metadata": {
        "id": "n6P_8Dam2mUG"
      },
      "execution_count": null,
      "outputs": []
    },
    {
      "cell_type": "code",
      "source": [
        "data.isnull().sum()"
      ],
      "metadata": {
        "id": "Me5F2j4Q2nU9"
      },
      "execution_count": null,
      "outputs": []
    },
    {
      "cell_type": "markdown",
      "source": [
        "# Data processing"
      ],
      "metadata": {
        "id": "437W53QUQ_Ol"
      }
    },
    {
      "cell_type": "code",
      "source": [
        "x = data['Review']\n",
        "y = data['Sentiment']"
      ],
      "metadata": {
        "id": "WeHCSZw0ey_j"
      },
      "execution_count": null,
      "outputs": []
    },
    {
      "cell_type": "code",
      "source": [
        "punct = string.punctuation\n",
        "punct"
      ],
      "metadata": {
        "id": "aTeCIGl4l2-y"
      },
      "execution_count": null,
      "outputs": []
    },
    {
      "cell_type": "code",
      "source": [
        "stopwords = list(STOP_WORDS)\n",
        "stopwords"
      ],
      "metadata": {
        "id": "QbrW6aAxl2ZK"
      },
      "execution_count": null,
      "outputs": []
    },
    {
      "cell_type": "code",
      "source": [
        "\n",
        "def Data_cleaning(sentance):\n",
        "  doc = nlp(sentance)\n",
        "\n",
        "  tokens = []\n",
        "  for token in doc:\n",
        "    if token.lemma_ != \"-PRON-\":    # -PRON- is a placeholder/lemma for all pronouns such as Their, you, me, and I.  Other NLP tools lemmatize these to I instead of a placeholder\n",
        "      temp = token.lemma_.lower().strip()     # Lemmatization, lowercase and removes leading and trailing whitespaces from a string.\n",
        "    else:\n",
        "      temp = token.lower_\n",
        "\n",
        "    tokens.append(temp)\n",
        "\n",
        "  cleaned_tokens = []\n",
        "  for token in tokens:\n",
        "    if token not in stopwords and token not in punct:\n",
        "      cleaned_tokens.append(token)\n",
        "\n",
        "  return cleaned_tokens\n"
      ],
      "metadata": {
        "id": "Wl7PU01L3B3m"
      },
      "execution_count": null,
      "outputs": []
    },
    {
      "cell_type": "code",
      "source": [
        "Data_cleaning(x[0])"
      ],
      "metadata": {
        "id": "0XWuf5ZY5TSu"
      },
      "execution_count": null,
      "outputs": []
    },
    {
      "cell_type": "code",
      "source": [
        "tfidf = TfidfVectorizer(tokenizer = Data_cleaning)\n",
        "\n",
        "classifier = LinearSVC()"
      ],
      "metadata": {
        "id": "mV75L31vfPC1"
      },
      "execution_count": null,
      "outputs": []
    },
    {
      "cell_type": "markdown",
      "source": [
        "# Split data"
      ],
      "metadata": {
        "id": "BzTQ2A-IUIy1"
      }
    },
    {
      "cell_type": "code",
      "source": [
        "from sklearn.model_selection import train_test_split\n",
        "x_train, x_test, y_train, y_test = train_test_split (x, y, test_size=0.20, random_state=0)"
      ],
      "metadata": {
        "id": "fjJZYi2IVN81"
      },
      "execution_count": null,
      "outputs": []
    },
    {
      "cell_type": "code",
      "source": [
        "x_train.shape, x_test.shape, y_train.shape, y_test.shape"
      ],
      "metadata": {
        "id": "UjnR5yBik8-L"
      },
      "execution_count": null,
      "outputs": []
    },
    {
      "cell_type": "code",
      "source": [
        "# Create and Train model"
      ],
      "metadata": {
        "id": "NncbtjV0VZ8e"
      },
      "execution_count": null,
      "outputs": []
    },
    {
      "cell_type": "code",
      "source": [
        "clf = Pipeline([(\"tfidf\", tfidf) , (\"clf\", classifier)])\n",
        "clf.fit (x_train, y_train)\n"
      ],
      "metadata": {
        "id": "FVSXTUt3UJGG"
      },
      "execution_count": null,
      "outputs": []
    },
    {
      "cell_type": "markdown",
      "source": [
        "# Testing and metrics"
      ],
      "metadata": {
        "id": "SZgsdxImWJ0d"
      }
    },
    {
      "cell_type": "code",
      "source": [
        "y_pred = clf.predict (x_test)"
      ],
      "metadata": {
        "id": "Ad_BFMI_WNxh"
      },
      "execution_count": null,
      "outputs": []
    },
    {
      "cell_type": "code",
      "source": [
        "accuracy_score (y_test, y_pred)"
      ],
      "metadata": {
        "id": "3zNGnD8ilhYL"
      },
      "execution_count": null,
      "outputs": []
    },
    {
      "cell_type": "code",
      "source": [
        "confusion_matrix(y_test, y_pred)"
      ],
      "metadata": {
        "id": "76nn2oQ2lm4v"
      },
      "execution_count": null,
      "outputs": []
    },
    {
      "cell_type": "code",
      "source": [
        "print(classification_report(y_test, y_pred))"
      ],
      "metadata": {
        "id": "HeaNu7MilsEM"
      },
      "execution_count": null,
      "outputs": []
    }
  ]
}