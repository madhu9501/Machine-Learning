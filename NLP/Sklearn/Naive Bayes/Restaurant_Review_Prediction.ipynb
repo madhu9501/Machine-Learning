{
  "nbformat": 4,
  "nbformat_minor": 0,
  "metadata": {
    "colab": {
      "provenance": []
    },
    "kernelspec": {
      "name": "python3",
      "display_name": "Python 3"
    },
    "language_info": {
      "name": "python"
    }
  },
  "cells": [
    {
      "cell_type": "markdown",
      "source": [
        "# Imports"
      ],
      "metadata": {
        "id": "vrV85QZuQLqx"
      }
    },
    {
      "cell_type": "code",
      "source": [
        "import numpy as np\n",
        "import matplotlib.pyplot as plt\n",
        "import pandas as pd\n",
        "\n",
        "import nltk\n",
        "import re\n",
        "\n",
        "nltk.download('stopwords')\n",
        "\n",
        "from nltk.corpus import stopwords\n",
        "from nltk.stem.porter import PorterStemmer\n",
        "\n",
        "from sklearn.feature_extraction.text import CountVectorizer\n",
        "\n",
        "from sklearn.naive_bayes import GaussianNB\n",
        "\n",
        "from sklearn.metrics import accuracy_score"
      ],
      "metadata": {
        "id": "8ilPlNpsQOtm"
      },
      "execution_count": null,
      "outputs": []
    },
    {
      "cell_type": "markdown",
      "source": [
        "# Load Data"
      ],
      "metadata": {
        "id": "PzVeWrWxQP_G"
      }
    },
    {
      "cell_type": "code",
      "source": [
        "data = pd.read_csv(\"Restaurant_Reviews.tsv\", sep='\\t')\n",
        "data.head()"
      ],
      "metadata": {
        "id": "026nZhgGQSpP"
      },
      "execution_count": null,
      "outputs": []
    },
    {
      "cell_type": "markdown",
      "source": [
        "# Understanding Data"
      ],
      "metadata": {
        "id": "W5OH6VwCQqPe"
      }
    },
    {
      "cell_type": "code",
      "source": [
        "data['Liked'].value_count()"
      ],
      "metadata": {
        "id": "3Z-3kJGTQsom"
      },
      "execution_count": null,
      "outputs": []
    },
    {
      "cell_type": "markdown",
      "source": [
        "# Data processing"
      ],
      "metadata": {
        "id": "437W53QUQ_Ol"
      }
    },
    {
      "cell_type": "code",
      "execution_count": 1,
      "metadata": {
        "colab": {
          "base_uri": "https://localhost:8080/",
          "height": 144
        },
        "id": "GCWdnp7pHTig",
        "outputId": "671eb035-a381-4bca-f317-b2b1359cfdaa"
      },
      "outputs": [
        {
          "output_type": "error",
          "ename": "SyntaxError",
          "evalue": "unterminated string literal (detected at line 18) (<ipython-input-1-c55d936b6075>, line 18)",
          "traceback": [
            "\u001b[0;36m  File \u001b[0;32m\"<ipython-input-1-c55d936b6075>\"\u001b[0;36m, line \u001b[0;32m18\u001b[0m\n\u001b[0;31m    '.join(review)\u001b[0m\n\u001b[0m    ^\u001b[0m\n\u001b[0;31mSyntaxError\u001b[0m\u001b[0;31m:\u001b[0m unterminated string literal (detected at line 18)\n"
          ]
        }
      ],
      "source": [
        "corpus = []\n",
        "ps = PorterStemmer ()\n",
        "\n",
        "for i in range (len (data)):\n",
        "  # Replace all special character with ' '\n",
        "  review = re.sub ('[^a-zA-Z]', ' ', data['Review'][i])\n",
        "  # lowercase\n",
        "  review = review.lower()\n",
        "  # Split into words\n",
        "  review = review.split()\n",
        "  # filter stop words\n",
        "  review = [ps.stem(word) for word in review if word not in stopwords.words('english')]\n",
        "  # join back all words\n",
        "  review = \" \".join(review)\n",
        "  # Recreate data\n",
        "  corpus.append(review)\n",
        "\n",
        "# Bag of words\n",
        "cv = CountVectorizer (max_features=1500)\n",
        "x = cv.fit_transform (corpus).toarray()\n",
        "\n",
        "x.shape"
      ]
    },
    {
      "cell_type": "code",
      "source": [
        "y = data.iloc[:, 1].values"
      ],
      "metadata": {
        "id": "sNYXPL3sVPAl"
      },
      "execution_count": null,
      "outputs": []
    },
    {
      "cell_type": "markdown",
      "source": [
        "# Split data"
      ],
      "metadata": {
        "id": "BzTQ2A-IUIy1"
      }
    },
    {
      "cell_type": "code",
      "source": [
        "from sklearn.model_selection import train_test_split\n",
        "x_train, x_test, y_train, y_test = train_test_split (x, y, test_size=0.20, random_state=0)"
      ],
      "metadata": {
        "id": "fjJZYi2IVN81"
      },
      "execution_count": null,
      "outputs": []
    },
    {
      "cell_type": "code",
      "source": [
        "# Create and Train model"
      ],
      "metadata": {
        "id": "NncbtjV0VZ8e"
      },
      "execution_count": null,
      "outputs": []
    },
    {
      "cell_type": "code",
      "source": [
        "classifier = GaussianNB ()\n",
        "classifier.fit (x_train, y_train)\n"
      ],
      "metadata": {
        "id": "FVSXTUt3UJGG"
      },
      "execution_count": null,
      "outputs": []
    },
    {
      "cell_type": "markdown",
      "source": [
        "# Testing and metrics"
      ],
      "metadata": {
        "id": "SZgsdxImWJ0d"
      }
    },
    {
      "cell_type": "code",
      "source": [
        "y_pred = classifier.predict (x_test)\n",
        "accuracy_score (y_test, y_pred)"
      ],
      "metadata": {
        "id": "Ad_BFMI_WNxh"
      },
      "execution_count": null,
      "outputs": []
    }
  ]
}