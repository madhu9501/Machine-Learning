{
  "nbformat": 4,
  "nbformat_minor": 0,
  "metadata": {
    "colab": {
      "provenance": []
    },
    "kernelspec": {
      "name": "python3",
      "display_name": "Python 3"
    },
    "language_info": {
      "name": "python"
    }
  },
  "cells": [
    {
      "cell_type": "markdown",
      "source": [
        "# Imports"
      ],
      "metadata": {
        "id": "vrV85QZuQLqx"
      }
    },
    {
      "cell_type": "code",
      "source": [
        "import tweepy\n",
        "from textblob import TextBlob\n",
        "from matplotlib.pyplot import plt"
      ],
      "metadata": {
        "id": "8ilPlNpsQOtm"
      },
      "execution_count": null,
      "outputs": []
    },
    {
      "cell_type": "markdown",
      "source": [
        "# Setting up tweepy"
      ],
      "metadata": {
        "id": "1zWE9lqkUGma"
      }
    },
    {
      "cell_type": "code",
      "source": [
        "consumer_token = \" \"\n",
        "consumer_secret = \" \"\n",
        "access_token = \" \"\n",
        "access_token_secret = \" \""
      ],
      "metadata": {
        "id": "026nZhgGQSpP"
      },
      "execution_count": null,
      "outputs": []
    },
    {
      "cell_type": "code",
      "source": [
        "auth = tweepy.OAuthHandler(consumer_token, consumer_secret)\n",
        "auth.set_access_token(access_token, access_token_secret)\n",
        "\n",
        "api = tweepy.API(auth)"
      ],
      "metadata": {
        "id": "5DLbRD7OaXoE"
      },
      "execution_count": null,
      "outputs": []
    },
    {
      "cell_type": "code",
      "source": [
        "type(api)"
      ],
      "metadata": {
        "id": "AoAvXTNOZ3wU"
      },
      "execution_count": null,
      "outputs": []
    },
    {
      "cell_type": "markdown",
      "source": [
        "# Sentiment Analysis"
      ],
      "metadata": {
        "id": "HkeLFf4BUTId"
      }
    },
    {
      "cell_type": "code",
      "source": [
        "search_term = \"\"\n",
        "tweet_count = 1000"
      ],
      "metadata": {
        "id": "2SuXRMjMlIIN"
      },
      "execution_count": null,
      "outputs": []
    },
    {
      "cell_type": "code",
      "source": [
        "positive = 0\n",
        "negative = 0\n",
        "neutral = 0\n",
        "polarity = 0"
      ],
      "metadata": {
        "id": "aTWoSCVk12BG"
      },
      "execution_count": null,
      "outputs": []
    },
    {
      "cell_type": "code",
      "source": [
        "tweets = tweepy.Cursor(api.search, q = search_term).items(tweet_count)\n",
        "\n",
        "for tweet in tweets:\n",
        "  print(tweet.text)\n",
        "  analysis = TextBlob(tweet.text)\n",
        "  polarity += analysis.sentiment.polarity\n",
        "\n",
        "  if(analysis.sentiment.polarity == 0):\n",
        "    neutral += 1\n",
        "  elif(analysis.sentiment.polarity < 0.00):\n",
        "    negative += 1\n",
        "  elif(analysis.sentiment.polarity > 0.00):\n",
        "    positive += 1\n"
      ],
      "metadata": {
        "id": "ZDTKi4UJZy7F"
      },
      "execution_count": null,
      "outputs": []
    },
    {
      "cell_type": "markdown",
      "source": [
        "# Result"
      ],
      "metadata": {
        "id": "ODu-gmqfU3ta"
      }
    },
    {
      "cell_type": "code",
      "source": [
        "def Get_percent(part, whole):\n",
        "  return (float(part)/float(whole)) * 100"
      ],
      "metadata": {
        "id": "n6P_8Dam2mUG"
      },
      "execution_count": 1,
      "outputs": []
    },
    {
      "cell_type": "code",
      "source": [
        "positive = Get_percent(positive, tweet_count)\n",
        "negative = Get_percent(negative, tweet_count)\n",
        "neutral = Get_percent(neutral, tweet_count)\n",
        "polarity = Get_percent(polarity, tweet_count)"
      ],
      "metadata": {
        "id": "7zDFgVidScVi"
      },
      "execution_count": null,
      "outputs": []
    },
    {
      "cell_type": "code",
      "source": [
        "positive\n",
        "negative\n",
        "neutral\n",
        "polarity"
      ],
      "metadata": {
        "id": "BSQc8Di8S5ds"
      },
      "execution_count": null,
      "outputs": []
    }
  ]
}