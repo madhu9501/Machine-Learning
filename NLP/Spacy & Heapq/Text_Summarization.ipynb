{
  "cells": [
    {
      "cell_type": "markdown",
      "metadata": {
        "id": "vrV85QZuQLqx"
      },
      "source": [
        "# Imports"
      ]
    },
    {
      "cell_type": "code",
      "execution_count": null,
      "metadata": {
        "id": "8ilPlNpsQOtm"
      },
      "outputs": [],
      "source": [
        "import spacy\n",
        "from spacy.lang.en.stop_words import STOP_WORDS\n",
        "from string import punctuation"
      ]
    },
    {
      "cell_type": "markdown",
      "metadata": {
        "id": "PzVeWrWxQP_G"
      },
      "source": [
        "# Load Data"
      ]
    },
    {
      "cell_type": "code",
      "execution_count": null,
      "metadata": {
        "id": "026nZhgGQSpP"
      },
      "outputs": [],
      "source": [
        "article = \"More than three decades after a mob of militant Hindu radicals razed a mosque to the ground in the Indian town of Ayodhya, the country’s prime minister, Narendra Modi, has inaugurated the new Hindu temple that will stand in its place.\n",
        "\n",
        "For some, the inauguration marks a hugely significant religious moment. Many Hindus believe Ayodhya to be the birthplace of the popular deity Lord Ram and the building of the temple, after over a century of disputes, has been heralded as Ram returning to his rightful place, and India freeing itself from the chains of past religious occupation.\n",
        "\n",
        "Modi himself called it the fulfilment of “the dream that many have cherished for years”. At the Prana Pratishtha, Monday’s rituals to consecrate the temple and give offerings and blessings to the idol of the young Lord Ram placed in the inner sanctum, Modi took on a starring role, having spent the past 11 days observing a special purification ritual to prepare.\n",
        "\n",
        "The consecration of the Ram temple became a national event, with 8,000 official guests including politicians, diplomats, Bollywood stars and holy figures, while hundreds of thousands of pilgrims flocked to Ayodhya from across the country to show their devotion to the new temple and Lord Ram. The town also underwent a $3bn government-funded transformation and was garlanded with flowers, saffron flags, images of Ram and billboards of Modi.\n",
        "\n",
        "The huge Ram Mandir temple still under construction\n",
        "\n",
        "Arjun Kumar, 22, a driver, had spent the past 20 days on a pilgrimage walking the 466 miles (750km) from Delhi to Ayodhya. “I consider it as the most important journey of my life,” he said. “Many of my friends were afraid to take this journey but we are followers of Lord Ram and Narendra Modi, no one can stop us. I think every Hindu should walk up to here to send a message that this country belongs to us and no one can stop us.”\n",
        "\n",
        "After the ceremony, devotees flocked to be close to Ram Mandir. Bharat Patel, 52, a herbal medicine seller from Gujarat, said: “On reaching here and looking at the temple, I collapsed and cried. I can say we felt heaven here. This is a proud moment for Hindus of the entire world.” \n",
        "\n",
        "len(article)"
      ]
    },
    {
      "cell_type": "code",
      "execution_count": null,
      "metadata": {
        "id": "5DLbRD7OaXoE"
      },
      "outputs": [],
      "source": [
        "nlp = spacy.load('en_core_web_sm')\n",
        "doc = nlp(article)"
      ]
    },
    {
      "cell_type": "code",
      "execution_count": null,
      "metadata": {
        "id": "AoAvXTNOZ3wU"
      },
      "outputs": [],
      "source": [
        "tokens = [token.text for token in doc]"
      ]
    },
    {
      "cell_type": "code",
      "execution_count": null,
      "metadata": {
        "id": "2SuXRMjMlIIN"
      },
      "outputs": [],
      "source": [
        "punctuation"
      ]
    },
    {
      "cell_type": "code",
      "execution_count": null,
      "metadata": {
        "id": "6WibFWnZZ4Mt"
      },
      "outputs": [],
      "source": [
        "punctuation = punctuation + '\\n'\n",
        "punctuation"
      ]
    },
    {
      "cell_type": "code",
      "execution_count": null,
      "metadata": {
        "id": "aTWoSCVk12BG"
      },
      "outputs": [],
      "source": []
    },
    {
      "cell_type": "markdown",
      "metadata": {
        "id": "W5OH6VwCQqPe"
      },
      "source": [
        "# Data processing"
      ]
    },
    {
      "cell_type": "code",
      "execution_count": null,
      "metadata": {
        "id": "ZDTKi4UJZy7F"
      },
      "outputs": [],
      "source": [
        "# Cleaning sentence and get word frequency\n",
        "\n",
        "word_freq = {}\n",
        "\n",
        "stop_words = list (STOP_WORDS)\n",
        "\n",
        "for word in doc:\n",
        "  if word.text.lower() not in stop_words:\n",
        "    if word.text.lower() not in punctuation:\n",
        "      if word.text not in word_freq.keys():\n",
        "        word_freq [word.text] = 1\n",
        "      else:\n",
        "        word_freq[word.text] += 1\n",
        "\n",
        "print(word_freq)"
      ]
    },
    {
      "cell_type": "code",
      "execution_count": null,
      "metadata": {
        "id": "n6P_8Dam2mUG"
      },
      "outputs": [],
      "source": [
        "max_freq = max(word_freq.values())\n",
        "print(max_freq)"
      ]
    },
    {
      "cell_type": "code",
      "execution_count": null,
      "metadata": {
        "id": "Me5F2j4Q2nU9"
      },
      "outputs": [],
      "source": [
        "# Normalize word frequency\n",
        "for word in word_freq.keys():\n",
        "  word_freq[word] = word_freq[word]/max_freq\n",
        "\n",
        "print(word_freq)"
      ]
    },
    {
      "cell_type": "markdown",
      "metadata": {
        "id": "bTtvKk8Aogpy"
      },
      "source": [
        "# Sentence tokanization"
      ]
    },
    {
      "cell_type": "code",
      "execution_count": null,
      "metadata": {
        "id": "WeHCSZw0ey_j"
      },
      "outputs": [],
      "source": [
        "sent_tokens = [sent for sent in doc.sents]\n",
        "print(sent_tokens)"
      ]
    },
    {
      "cell_type": "code",
      "execution_count": null,
      "metadata": {
        "id": "YNqsUMnhbDlf"
      },
      "outputs": [],
      "source": [
        "# Get score of each sentance by adding scores of each word in the sentence\n",
        "sent_score = {}\n",
        "\n",
        "for sent in sent_tokens:\n",
        "  for word in sent:\n",
        "    if word.text.lower() in word_freq.keys():\n",
        "      if sent not in sent_score.keys():\n",
        "        sent_score[sent] = word_freq[word.text.lower()]\n",
        "      else:\n",
        "        sent_score[sent] += word_freq[word.text.lower()]\n",
        "\n",
        "print(sent_score)\n"
      ]
    },
    {
      "cell_type": "markdown",
      "metadata": {
        "id": "R8doSiLInY1b"
      },
      "source": [
        "# Select 30% sentences with max score"
      ]
    },
    {
      "cell_type": "code",
      "execution_count": null,
      "metadata": {
        "id": "AvSTCiHebDtQ"
      },
      "outputs": [],
      "source": [
        "from heapq import nlargest"
      ]
    },
    {
      "cell_type": "code",
      "execution_count": null,
      "metadata": {
        "id": "TMY4nQ3PbDxj"
      },
      "outputs": [],
      "source": [
        "num_sentences_in_summary = int(len(sent_score) * 0.3)"
      ]
    },
    {
      "cell_type": "markdown",
      "metadata": {
        "id": "JJOX5pjtrW9W"
      },
      "source": [
        "# Getting the summary"
      ]
    },
    {
      "cell_type": "code",
      "execution_count": null,
      "metadata": {
        "id": "DLCEJ57GbD1U"
      },
      "outputs": [],
      "source": [
        "summary = nlargest(n = num_sentences_in_summary, iterable= sent_score, key = sent_score.get)"
      ]
    }
  ],
  "metadata": {
    "colab": {
      "provenance": []
    },
    "kernelspec": {
      "display_name": "Python 3",
      "name": "python3"
    },
    "language_info": {
      "name": "python"
    }
  },
  "nbformat": 4,
  "nbformat_minor": 0
}
