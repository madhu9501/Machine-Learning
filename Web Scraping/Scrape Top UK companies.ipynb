{
 "cells": [
  {
   "cell_type": "code",
   "execution_count": null,
   "id": "2a57de73",
   "metadata": {},
   "outputs": [],
   "source": [
    "from bs4 import BeautifulSoup\n",
    "import requests\n",
    "import pandas as pd"
   ]
  },
  {
   "cell_type": "code",
   "execution_count": null,
   "id": "91c0ec85",
   "metadata": {},
   "outputs": [],
   "source": [
    "url = 'https://en.wikipedia.org/wiki/List_of_largest_companies_in_the_United_Kingdom'\n",
    "\n",
    "page = requests.get(url)\n",
    "\n",
    "soup = BeautifulSoup(page.text, 'html')"
   ]
  },
  {
   "cell_type": "code",
   "execution_count": null,
   "id": "6b8eb3e6",
   "metadata": {},
   "outputs": [],
   "source": [
    "print(type(soup))"
   ]
  },
  {
   "cell_type": "code",
   "execution_count": null,
   "id": "4f4480f0",
   "metadata": {},
   "outputs": [],
   "source": [
    "print(soup)"
   ]
  },
  {
   "cell_type": "code",
   "execution_count": null,
   "id": "558ae6c2",
   "metadata": {},
   "outputs": [],
   "source": [
    "print(soup.prettify())"
   ]
  },
  {
   "cell_type": "code",
   "execution_count": null,
   "id": "b32641ef",
   "metadata": {},
   "outputs": [],
   "source": [
    "table = soup.findAll('table')"
   ]
  },
  {
   "cell_type": "code",
   "execution_count": null,
   "id": "c9962e55",
   "metadata": {},
   "outputs": [],
   "source": [
    "print(table)"
   ]
  },
  {
   "cell_type": "code",
   "execution_count": null,
   "id": "df263328",
   "metadata": {},
   "outputs": [],
   "source": [
    "len(table)"
   ]
  },
  {
   "cell_type": "code",
   "execution_count": null,
   "id": "e6951a2d",
   "metadata": {},
   "outputs": [],
   "source": [
    "table[0] # soup.findAll('table')[0]"
   ]
  },
  {
   "cell_type": "code",
   "execution_count": null,
   "id": "53ccf33a",
   "metadata": {},
   "outputs": [],
   "source": [
    "table = soup.find('table')\n",
    "table"
   ]
  },
  {
   "cell_type": "code",
   "execution_count": null,
   "id": "c7e63ac3",
   "metadata": {},
   "outputs": [],
   "source": [
    "len(tabel)"
   ]
  },
  {
   "cell_type": "code",
   "execution_count": null,
   "id": "9562d292",
   "metadata": {},
   "outputs": [],
   "source": [
    "tabel = soup.find('table', class_ = \"wikitable sortable\")\n",
    "tabel"
   ]
  },
  {
   "cell_type": "code",
   "execution_count": null,
   "id": "27ce57f2",
   "metadata": {},
   "outputs": [],
   "source": [
    "titles = tabel.findAll('th')\n",
    "titles"
   ]
  },
  {
   "cell_type": "code",
   "execution_count": null,
   "id": "a7843899",
   "metadata": {},
   "outputs": [],
   "source": [
    "feature_names = [title.text for title in titles]\n",
    "feature_names"
   ]
  },
  {
   "cell_type": "code",
   "execution_count": null,
   "id": "aacb4471",
   "metadata": {},
   "outputs": [],
   "source": [
    "feature_names = [title.text.strip() for title in titles]\n",
    "feature_names"
   ]
  },
  {
   "cell_type": "code",
   "execution_count": null,
   "id": "135db7cf",
   "metadata": {},
   "outputs": [],
   "source": [
    "df = pd.DataFrame(feature_names)\n",
    "df"
   ]
  },
  {
   "cell_type": "code",
   "execution_count": null,
   "id": "b76c451e",
   "metadata": {},
   "outputs": [],
   "source": [
    "df = pd.DataFrame(columns = feature_names)\n",
    "df"
   ]
  },
  {
   "cell_type": "code",
   "execution_count": null,
   "id": "0259fa41",
   "metadata": {},
   "outputs": [],
   "source": [
    "rows = tabel.findAll('tr')\n",
    "rows"
   ]
  },
  {
   "cell_type": "code",
   "execution_count": null,
   "id": "694897ca",
   "metadata": {},
   "outputs": [],
   "source": [
    "for row in rows:\n",
    "    row_data = row.findAll('td')\n",
    "    individual_row_data = [data.text.strip() for data in row_data]\n",
    "    print(individual_row_data)\n"
   ]
  },
  {
   "cell_type": "code",
   "execution_count": null,
   "id": "94a45c58",
   "metadata": {},
   "outputs": [],
   "source": [
    "for row in rows[1:]:\n",
    "    row_data = row.findAll('td')\n",
    "    individual_row_data = [data.text.strip() for data in row_data]\n",
    "    print(individual_row_data)\n"
   ]
  },
  {
   "cell_type": "code",
   "execution_count": null,
   "id": "c33cb33d",
   "metadata": {},
   "outputs": [],
   "source": [
    "for row in rows[1:]:\n",
    "    row_data = row.findAll('td')\n",
    "    individual_row_data = [data.text.strip() for data in row_data]\n",
    "\n",
    "    length = len(df)\n",
    "    df.loc[length] = individual_row_data\n",
    "    \n",
    "df"
   ]
  },
  {
   "cell_type": "code",
   "execution_count": null,
   "id": "287c115e",
   "metadata": {},
   "outputs": [],
   "source": [
    "df.to_csv(r'D:\\Data Projects\\Top companies in UK.csv', index = False)"
   ]
  },
  {
   "cell_type": "code",
   "execution_count": null,
   "id": "7dbe8d94",
   "metadata": {},
   "outputs": [],
   "source": []
  }
 ],
 "metadata": {
  "kernelspec": {
   "display_name": "Python 3",
   "language": "python",
   "name": "python3"
  },
  "language_info": {
   "codemirror_mode": {
    "name": "ipython",
    "version": 3
   },
   "file_extension": ".py",
   "mimetype": "text/x-python",
   "name": "python",
   "nbconvert_exporter": "python",
   "pygments_lexer": "ipython3",
   "version": "3.8.8"
  }
 },
 "nbformat": 4,
 "nbformat_minor": 5
}
