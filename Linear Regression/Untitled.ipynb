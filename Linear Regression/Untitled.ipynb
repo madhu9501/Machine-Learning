{
 "cells": [
  {
   "cell_type": "code",
   "execution_count": null,
   "id": "9a08bc57",
   "metadata": {},
   "outputs": [],
   "source": [
    "import numpy as np \n",
    "import pandas as pd\n",
    "\n",
    "import matplotlib.pyplot as plt \n",
    "import seaborn as sns \n",
    "\n",
    "%matplotlib inline\n",
    "# enables the embedding of Matplotlib figures directly in the output cells of the Jupyter Notebook."
   ]
  },
  {
   "cell_type": "code",
   "execution_count": null,
   "id": "ff677a82",
   "metadata": {},
   "outputs": [],
   "source": [
    "import plotly.express as px \n",
    "import plotly.graph_objects as go\n",
    "import plotly.io as pio\n",
    "pio.templates"
   ]
  },
  {
   "cell_type": "code",
   "execution_count": null,
   "id": "98719d3f",
   "metadata": {},
   "outputs": [],
   "source": [
    "from sklearn.datasets import load_boston \n",
    "load_boston = load_boston() \n",
    "\n",
    "\n",
    "print(load_boston)\n",
    "print('\\n \\n \\n ============================================================================================================== \\n \\n \\n')\n",
    "print(load_boston.DESCR)"
   ]
  },
  {
   "cell_type": "code",
   "execution_count": null,
   "id": "94685497",
   "metadata": {
    "scrolled": true
   },
   "outputs": [],
   "source": [
    "X = load_boston.data \n",
    "y = load_boston.target \n",
    "\n",
    "print(X)\n",
    "print('\\n \\n \\n ============================================================================================================== \\n \\n \\n')\n",
    "print(y)"
   ]
  },
  {
   "cell_type": "code",
   "execution_count": null,
   "id": "de7fffda",
   "metadata": {
    "scrolled": false
   },
   "outputs": [],
   "source": [
    "df = pd.DataFrame(X, columns=load_boston.feature_names) \n",
    "df"
   ]
  },
  {
   "cell_type": "code",
   "execution_count": null,
   "id": "31039745",
   "metadata": {},
   "outputs": [],
   "source": [
    "df[\"SalePrice\"] = y # saleprice \n",
    "df.SalePrice"
   ]
  },
  {
   "cell_type": "code",
   "execution_count": null,
   "id": "98bbeeb0",
   "metadata": {},
   "outputs": [],
   "source": [
    "\n",
    "\n",
    "print(df.shape) \n",
    "print('\\n \\n \\n ============================================================================================================== \\n \\n \\n')\n",
    "df.info() \n",
    "print('\\n \\n \\n ============================================================================================================== \\n \\n \\n')\n",
    "df.head()"
   ]
  },
  {
   "cell_type": "code",
   "execution_count": null,
   "id": "f9142db1",
   "metadata": {},
   "outputs": [],
   "source": [
    "df.describe()"
   ]
  },
  {
   "cell_type": "markdown",
   "id": "692edd61",
   "metadata": {},
   "source": [
    "#EDA"
   ]
  },
  {
   "cell_type": "code",
   "execution_count": null,
   "id": "b3802cd3",
   "metadata": {},
   "outputs": [],
   "source": [
    "df.isnull().sum()"
   ]
  },
  {
   "cell_type": "code",
   "execution_count": null,
   "id": "6ff0c200",
   "metadata": {},
   "outputs": [],
   "source": [
    "sns.pairplot(df, height=2.5)\n",
    "plt.tight_layout()"
   ]
  },
  {
   "cell_type": "code",
   "execution_count": null,
   "id": "34a4ec6b",
   "metadata": {},
   "outputs": [],
   "source": [
    "sns.displot(df['SalePrice']);"
   ]
  },
  {
   "cell_type": "markdown",
   "id": "88baf889",
   "metadata": {},
   "source": [
    "## Skewness \n",
    "is a statistical measure that quantifies the asymmetry of a probability distribution of \n",
    "a real-valued random variable about its mean. \n",
    "In the context of data analysis and statistics, it is often used to understand the shape of a distribution.\n",
    "\n",
    "* A positive skewness indicates that the distribution is skewed to the right, meaning that the right tail is \n",
    "longer or fatter than the left tail. In other words, the mass of the distribution is concentrated on the left side, \n",
    "and there are some unusually high values that are pulling the mean to the right.\n",
    "* A negative skewness indicates that the distribution is skewed to the left, meaning that the left tail is \n",
    "longer or fatter than the right tail. In this case, the mass of the distribution is concentrated on the right side, \n",
    "and there are some unusually low values pulling the mean to the left.\n",
    "* A skewness of zero indicates a perfectly symmetrical distribution."
   ]
  },
  {
   "cell_type": "markdown",
   "id": "7bea3f7d",
   "metadata": {},
   "source": [
    "## Kurtosis \n",
    "is a statistical measure that describes the shape of a probability distribution's tails in relation to its peak. \n",
    "\n",
    "* Positive kurtosis indicates heavier tails than a normal distribution.\n",
    "\n",
    "* Negative kurtosis indicates lighter tails."
   ]
  },
  {
   "cell_type": "code",
   "execution_count": null,
   "id": "93596eb0",
   "metadata": {},
   "outputs": [],
   "source": [
    "print(\"Skewness: %f\" % df['SalePrice'].skew())\n",
    "print(\"Kurtosis: %f\" % df['SalePrice'].kurt())"
   ]
  },
  {
   "cell_type": "code",
   "execution_count": null,
   "id": "de7f4c9d",
   "metadata": {},
   "outputs": [],
   "source": [
    "fig, axes = plt.subplots()\n",
    "axes.scatter(x = df['CRIM'], y = df['SalePrice'])\n",
    "plt.ylabel('SalePrice', fontsize=13)\n",
    "plt.xlabel('CRIM', fontsize=13)"
   ]
  },
  {
   "cell_type": "code",
   "execution_count": null,
   "id": "450976c1",
   "metadata": {},
   "outputs": [],
   "source": [
    "fig, axes = plt.subplots()\n",
    "axes.scatter(x = df['AGE'], y = df['SalePrice'])\n",
    "plt.ylabel('SalePrice', fontsize=13)\n",
    "plt.xlabel('Age', fontsize=13)"
   ]
  },
  {
   "cell_type": "code",
   "execution_count": null,
   "id": "c39921ee",
   "metadata": {},
   "outputs": [],
   "source": []
  }
 ],
 "metadata": {
  "kernelspec": {
   "display_name": "Python 3",
   "language": "python",
   "name": "python3"
  },
  "language_info": {
   "codemirror_mode": {
    "name": "ipython",
    "version": 3
   },
   "file_extension": ".py",
   "mimetype": "text/x-python",
   "name": "python",
   "nbconvert_exporter": "python",
   "pygments_lexer": "ipython3",
   "version": "3.8.8"
  }
 },
 "nbformat": 4,
 "nbformat_minor": 5
}
